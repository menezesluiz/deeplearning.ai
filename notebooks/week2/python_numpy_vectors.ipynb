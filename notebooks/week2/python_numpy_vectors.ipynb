{
 "cells": [
  {
   "cell_type": "code",
   "execution_count": 1,
   "metadata": {
    "collapsed": true
   },
   "outputs": [],
   "source": [
    "\"\"\"\n",
    "Neste vídeo será mostrado um exemplo de como construir vetores em python numpy\n",
    "\"\"\"\n",
    "\n",
    "import numpy as np\n",
    "a = np.random.randn(5)"
   ]
  },
  {
   "cell_type": "code",
   "execution_count": 2,
   "outputs": [
    {
     "name": "stdout",
     "output_type": "stream",
     "text": [
      "[-0.13360703  1.28506633 -1.09851797  1.25052659  0.36989658]\n"
     ]
    }
   ],
   "source": [
    "print(a)"
   ],
   "metadata": {
    "collapsed": false,
    "pycharm": {
     "name": "#%%\n"
    }
   }
  },
  {
   "cell_type": "code",
   "execution_count": 3,
   "outputs": [
    {
     "name": "stdout",
     "output_type": "stream",
     "text": [
      "(5,)\n"
     ]
    }
   ],
   "source": [
    "print(a.shape)"
   ],
   "metadata": {
    "collapsed": false,
    "pycharm": {
     "name": "#%%\n"
    }
   }
  },
  {
   "cell_type": "code",
   "execution_count": 4,
   "outputs": [
    {
     "name": "stdout",
     "output_type": "stream",
     "text": [
      "[-0.13360703  1.28506633 -1.09851797  1.25052659  0.36989658]\n"
     ]
    }
   ],
   "source": [
    "print(a.T)  # Matriz transposta"
   ],
   "metadata": {
    "collapsed": false,
    "pycharm": {
     "name": "#%%\n"
    }
   }
  },
  {
   "cell_type": "code",
   "execution_count": 5,
   "outputs": [
    {
     "name": "stdout",
     "output_type": "stream",
     "text": [
      "4.576628281103455\n"
     ]
    }
   ],
   "source": [
    "print(np.dot(a, a.T))  # Imprime o produto interno entre \"a\" e \"a\" transposto"
   ],
   "metadata": {
    "collapsed": false,
    "pycharm": {
     "name": "#%%\n"
    }
   }
  },
  {
   "cell_type": "code",
   "execution_count": 7,
   "outputs": [
    {
     "name": "stdout",
     "output_type": "stream",
     "text": [
      "[[-1.42412092]\n",
      " [ 1.63127353]\n",
      " [ 0.10761641]\n",
      " [ 1.9715508 ]\n",
      " [-1.06547871]]\n"
     ]
    }
   ],
   "source": [
    "a = np.random.randn(5, 1)  # Utilizar dessa forma ao invés de estrutura de\n",
    "                           # dados\n",
    "print(a)"
   ],
   "metadata": {
    "collapsed": false,
    "pycharm": {
     "name": "#%%\n"
    }
   }
  },
  {
   "cell_type": "code",
   "execution_count": 8,
   "outputs": [
    {
     "name": "stdout",
     "output_type": "stream",
     "text": [
      "[[-1.42412092  1.63127353  0.10761641  1.9715508  -1.06547871]]\n"
     ]
    }
   ],
   "source": [
    "print(a.T) # Note que agora são dois colchetes na estrutura de dados do vetor"
   ],
   "metadata": {
    "collapsed": false,
    "pycharm": {
     "name": "#%%\n"
    }
   }
  },
  {
   "cell_type": "code",
   "execution_count": 10,
   "outputs": [
    {
     "name": "stdout",
     "output_type": "stream",
     "text": [
      "[[ 2.02812038 -2.32313076 -0.15325877 -2.80772673  1.51737051]\n",
      " [-2.32313076  2.66105334  0.17555179  3.21613864 -1.73808721]\n",
      " [-0.15325877  0.17555179  0.01158129  0.21217121 -0.11466299]\n",
      " [-2.80772673  3.21613864  0.21217121  3.88701257 -2.1006454 ]\n",
      " [ 1.51737051 -1.73808721 -0.11466299 -2.1006454   1.13524488]]\n"
     ]
    }
   ],
   "source": [
    "print(np.dot(a, a.T))"
   ],
   "metadata": {
    "collapsed": false,
    "pycharm": {
     "name": "#%%\n"
    }
   }
  },
  {
   "cell_type": "markdown",
   "source": [
    "Recatiputalando"
   ],
   "metadata": {
    "collapsed": false
   }
  },
  {
   "cell_type": "code",
   "execution_count": 17,
   "outputs": [
    {
     "name": "stdout",
     "output_type": "stream",
     "text": [
      "[ 1.31579838  0.36787735 -1.4602755   0.27624652 -0.85783468]\n"
     ]
    }
   ],
   "source": [
    "# O primeiro comando foi:\n",
    "a = np.random.randn(5)  # Isso é chamado de matriz de ordem 1\n",
    "print(a)\n"
   ],
   "metadata": {
    "collapsed": false,
    "pycharm": {
     "name": "#%%\n"
    }
   }
  },
  {
   "cell_type": "raw",
   "source": [
    "\n",
    "'''\n",
    "Recomendação do professor: Ao fazer exercício de programação, ou de fato quando\n",
    "estiver implementando regressão logística, ou redes neurais, que não seja\n",
    "utilizado estas matrizes de ordem 1.\n",
    "'''\n",
    "\n"
   ],
   "metadata": {
    "collapsed": false,
    "pycharm": {
     "name": "#%% raw\n"
    }
   }
  },
  {
   "cell_type": "raw",
   "source": [
    "\n",
    "\"\"\"\n",
    "Em vez disso, toda vez que for criada uma matriz, faça um vetor coluna:\n",
    "a = np.random.randn(5, 1)\n",
    "Neste caso:\n",
    "a.shape = (5, 1) será igual a (5, 1)\n",
    "\n",
    "ou\n",
    "\n",
    "faça um vetor linha:\n",
    "a = np.random.randn(1, 5)\n",
    "Neste caso:\n",
    "a.shape = (1, 5) será igual a (1, 5)\n",
    "\n",
    "Assim o comportamento dos vetores serão mais fáceis de entender.\n",
    "\"\"\""
   ],
   "metadata": {
    "collapsed": false,
    "pycharm": {
     "name": "#%% raw\n"
    }
   }
  }
 ],
 "metadata": {
  "kernelspec": {
   "display_name": "Python 3",
   "language": "python",
   "name": "python3"
  },
  "language_info": {
   "codemirror_mode": {
    "name": "ipython",
    "version": 2
   },
   "file_extension": ".py",
   "mimetype": "text/x-python",
   "name": "python",
   "nbconvert_exporter": "python",
   "pygments_lexer": "ipython2",
   "version": "2.7.6"
  }
 },
 "nbformat": 4,
 "nbformat_minor": 0
}